{
 "cells": [
  {
   "cell_type": "code",
   "execution_count": 1,
   "id": "03b81d63",
   "metadata": {},
   "outputs": [],
   "source": [
    "import pandas as pd\n",
    "import plotly.express as px\n",
    "import geopandas as gpd\n",
    "import matplotlib.pyplot as plt"
   ]
  },
  {
   "cell_type": "code",
   "execution_count": 3,
   "id": "ee229bb7",
   "metadata": {},
   "outputs": [],
   "source": [
    "df = pd.read_csv('../Input/Covid-19.csv')"
   ]
  },
  {
   "cell_type": "code",
   "execution_count": null,
   "id": "4652ca6c",
   "metadata": {},
   "outputs": [],
   "source": [
    "gdf = gpd.read_file('Comunas/comunas.shp')"
   ]
  },
  {
   "cell_type": "code",
   "execution_count": null,
   "id": "88935a9e",
   "metadata": {},
   "outputs": [],
   "source": [
    "gdf.head(2)"
   ]
  },
  {
   "cell_type": "code",
   "execution_count": null,
   "id": "4f2f69f4",
   "metadata": {},
   "outputs": [],
   "source": [
    "excluir = ['Isla de Maipo','San José de Maipo','Alhué','San Pedro','Pirque','Paine','Melipilla','Tiltil','Colina','Lampa',\n",
    "           'Curacaví','María Pinto','Buin','Lo Barnechea','El Monte','Talagante']\n",
    "gdf_comunas = gdf[(gdf['codregion'] == 13) & (~gdf['Comuna'].isin(excluir)) ][['cod_comuna','geometry']]"
   ]
  },
  {
   "cell_type": "code",
   "execution_count": null,
   "id": "79478e20",
   "metadata": {},
   "outputs": [],
   "source": [
    "df = gdf_comunas.merge(df,right_on='Codigo comuna', left_on='cod_comuna',how='right')"
   ]
  },
  {
   "cell_type": "code",
   "execution_count": null,
   "id": "2b302219",
   "metadata": {},
   "outputs": [],
   "source": [
    "df=df.dropna(subset=['geometry'])"
   ]
  },
  {
   "cell_type": "code",
   "execution_count": null,
   "id": "59a4f2cb",
   "metadata": {},
   "outputs": [],
   "source": [
    "df.columns[290]"
   ]
  },
  {
   "cell_type": "code",
   "execution_count": null,
   "id": "a7120398",
   "metadata": {},
   "outputs": [],
   "source": [
    "import matplotlib.pyplot as plt\n",
    "from matplotlib.colors import ListedColormap\n",
    "\n",
    "# Crear una figura y ejes para los cuatro mapas\n",
    "fig, axes = plt.subplots(2, 2, figsize=(30, 15))\n",
    "\n",
    "# Crear un esquema de color personalizado\n",
    "custom_cmap = ListedColormap(['lavender', 'lightcoral', 'mediumpurple'])\n",
    "\n",
    "# Lista de nombres de las columnas\n",
    "column_names = ['30-03-2020', '08-06-2020', '06-08-2021', '19-12-2022']\n",
    "\n",
    "# Normalizar los valores de casos\n",
    "max_cases = df[column_names].max().max()\n",
    "for col in column_names:\n",
    "    df[f'normalized_cases_{col}'] = df[col] / max_cases\n",
    "\n",
    "# Graficar los mapas en los ejes correspondientes\n",
    "for i, ax_row in enumerate(axes):\n",
    "    for j, ax in enumerate(ax_row):\n",
    "        col = column_names[i * 2 + j]\n",
    "        df.plot(ax=ax,\n",
    "                column=f'normalized_cases_{col}',\n",
    "                cmap=custom_cmap,\n",
    "                linewidth=0.2,\n",
    "                legend=False)\n",
    "\n",
    "        # Agregar etiquetas a las ubicaciones de las comunas\n",
    "        for idx, row in df.iterrows():\n",
    "            centroid = row['geometry'].centroid\n",
    "            ax.annotate(text=row['Comuna'],\n",
    "                        xy=(centroid.x, centroid.y),\n",
    "                        ha='right',\n",
    "                        size=8,\n",
    "                        horizontalalignment='right')\n",
    "\n",
    "        # Agregar título al gráfico\n",
    "        ax.set_title(\"Casos registrados de COVID-19 al día de \" + col, fontsize=16)\n",
    "\n",
    "        # Desactivar los ejes para mejorar la presentación\n",
    "        ax.set_axis_off()\n",
    "\n",
    "# Ajustar y mostrar la figura\n",
    "plt.tight_layout()\n",
    "plt.show()\n"
   ]
  },
  {
   "cell_type": "code",
   "execution_count": null,
   "id": "91706514",
   "metadata": {},
   "outputs": [],
   "source": [
    "df_comunas_pivote = df.loc[:, [df.columns[4], df.columns[1]] + df.columns[7:-5].tolist()]\n",
    "df_comunas_pivote"
   ]
  },
  {
   "cell_type": "code",
   "execution_count": null,
   "id": "d4e957fe",
   "metadata": {},
   "outputs": [],
   "source": [
    "df_comunas_melt = pd.melt(df_comunas_pivote, id_vars=['Comuna', 'geometry'], var_name='Fecha', value_name='casos covid')\n",
    "df_comunas_melt.Fecha=pd.to_datetime(df_comunas_melt.Fecha, format=\"%d-%m-%Y\")\n",
    "df_comunas_melt"
   ]
  },
  {
   "cell_type": "code",
   "execution_count": null,
   "id": "ffb5b050",
   "metadata": {},
   "outputs": [],
   "source": [
    "df_comunas_filtrado = df_comunas_melt[(df_comunas_melt.Fecha >= '2020-01-01') & (df_comunas_melt.Fecha < '2020-06-01')]"
   ]
  },
  {
   "cell_type": "code",
   "execution_count": null,
   "id": "37e3db51",
   "metadata": {},
   "outputs": [],
   "source": [
    "import geopandas as gpd\n",
    "import pandas as pd\n",
    "import plotly.express as px\n",
    "\n",
    "# Cargar el DataFrame de GeoPandas con los datos\n",
    "# Reemplaza 'ruta_archivo.shp' con la ruta a tu archivo shapefile\n",
    "gdf = df_comunas_filtrado #gpd.read_file('ruta_archivo.shp')\n",
    "\n",
    "\n",
    "# Asegurarse de que 'Fecha' sea del tipo datetime\n",
    "gdf['Fecha'] = pd.to_datetime(gdf['Fecha'])\n",
    "\n",
    "# Ordenar el DataFrame por fecha\n",
    "gdf = gdf.sort_values(by='Fecha')\n",
    "\n",
    "# Crear una figura de Plotly Express\n",
    "fig = px.choropleth(\n",
    "    gdf,\n",
    "    geojson=gdf.geometry,\n",
    "    locations=gdf.index,\n",
    "    color='casos covid',\n",
    "    color_continuous_scale='OrRd',\n",
    "    animation_frame=gdf['Fecha'].dt.strftime('%Y-%m-%d'),  # Formatear fecha para animación\n",
    "    range_color=(0, gdf['casos covid'].max()),  # Ajustar el rango de colores\n",
    "    title='Casos COVID-19 por Comuna',\n",
    "    labels={'casos covid': 'Casos COVID-19'}\n",
    ")\n",
    "\n",
    "# Ajustar la escala de la barra de colores\n",
    "fig.update_layout(coloraxis_colorbar=dict(title=\"Casos COVID-19\"))\n",
    "\n",
    "# Mostrar la figura\n",
    "fig.show()\n"
   ]
  },
  {
   "cell_type": "code",
   "execution_count": null,
   "id": "c2645e2c",
   "metadata": {},
   "outputs": [],
   "source": []
  }
 ],
 "metadata": {
  "kernelspec": {
   "display_name": "Python 3 (ipykernel)",
   "language": "python",
   "name": "python3"
  },
  "language_info": {
   "codemirror_mode": {
    "name": "ipython",
    "version": 3
   },
   "file_extension": ".py",
   "mimetype": "text/x-python",
   "name": "python",
   "nbconvert_exporter": "python",
   "pygments_lexer": "ipython3",
   "version": "3.9.12"
  }
 },
 "nbformat": 4,
 "nbformat_minor": 5
}
